{
 "cells": [
  {
   "cell_type": "code",
   "execution_count": 29,
   "metadata": {},
   "outputs": [
    {
     "name": "stderr",
     "output_type": "stream",
     "text": [
      "c:\\Users\\dattad\\Anaconda3\\lib\\site-packages\\pinecone\\index.py:4: TqdmExperimentalWarning: Using `tqdm.autonotebook.tqdm` in notebook mode. Use `tqdm.tqdm` instead to force console mode (e.g. in jupyter console)\n",
      "  from tqdm.autonotebook import tqdm\n"
     ]
    }
   ],
   "source": [
    "import pinecone\n",
    "from tqdm import tqdm\n",
    "import pandas as pd"
   ]
  },
  {
   "cell_type": "code",
   "execution_count": 35,
   "metadata": {},
   "outputs": [],
   "source": [
    "\n",
    "pinecone.init(api_key=\"\", environment=\"\")\n"
   ]
  },
  {
   "cell_type": "code",
   "execution_count": 36,
   "metadata": {},
   "outputs": [
    {
     "data": {
      "text/plain": [
       "['nytfb-dct-embeddings',\n",
       " 'nytfb-gem-embeddings',\n",
       " 'nytfb-glove-embeddings',\n",
       " 'nytfb-laser-embeddings',\n",
       " 'nytfb-openai-embeddings',\n",
       " 'nytfb-random-embeddings',\n",
       " 'nytfb-sentbert-embeddings']"
      ]
     },
     "execution_count": 36,
     "metadata": {},
     "output_type": "execute_result"
    }
   ],
   "source": [
    "pinecone.list_indexes()"
   ]
  },
  {
   "cell_type": "code",
   "execution_count": null,
   "metadata": {},
   "outputs": [],
   "source": []
  },
  {
   "cell_type": "code",
   "execution_count": 5,
   "metadata": {},
   "outputs": [
    {
     "data": {
      "text/plain": [
       "'c:\\\\Users\\\\dattad\\\\Desktop\\\\pinecone-poc'"
      ]
     },
     "execution_count": 5,
     "metadata": {},
     "output_type": "execute_result"
    }
   ],
   "source": [
    "import os\n",
    "import pandas as pd\n",
    "os.getcwd()"
   ]
  },
  {
   "cell_type": "code",
   "execution_count": 6,
   "metadata": {},
   "outputs": [
    {
     "name": "stderr",
     "output_type": "stream",
     "text": [
      "C:\\Users\\dattad\\AppData\\Local\\Temp\\ipykernel_10644\\919608044.py:1: DtypeWarning: Columns (4) have mixed types. Specify dtype option on import or set low_memory=False.\n",
      "  data = pd.read_csv(\"data/NYTFB-280K/train.txt\",sep = \"\\t\",header=1,names = [\"meta-1\",\"meta-2\",\"NE1\",\"NE2\",\"relation\",\"text\"])\n"
     ]
    }
   ],
   "source": [
    "data = pd.read_csv(\"data/NYTFB-280K/train.txt\",sep = \"\\t\",header=1,names = [\"meta-1\",\"meta-2\",\"NE1\",\"NE2\",\"relation\",\"text\"])"
   ]
  },
  {
   "cell_type": "code",
   "execution_count": 7,
   "metadata": {},
   "outputs": [
    {
     "data": {
      "text/plain": [
       "0                    /location/location/contains\n",
       "1                    /location/location/contains\n",
       "2                    /location/location/contains\n",
       "3                    /location/location/contains\n",
       "4                    /location/location/contains\n",
       "                           ...                  \n",
       "228331    /location/neighborhood/neighborhood_of\n",
       "228332    /location/neighborhood/neighborhood_of\n",
       "228333    /location/neighborhood/neighborhood_of\n",
       "228334    /location/neighborhood/neighborhood_of\n",
       "228335               /location/location/contains\n",
       "Name: relation, Length: 136962, dtype: object"
      ]
     },
     "execution_count": 7,
     "metadata": {},
     "output_type": "execute_result"
    }
   ],
   "source": [
    "dropped_nas = data.dropna()\n",
    "dropped_nas[\"relation\"]"
   ]
  },
  {
   "cell_type": "code",
   "execution_count": 10,
   "metadata": {},
   "outputs": [
    {
     "data": {
      "text/plain": [
       "55"
      ]
     },
     "execution_count": 10,
     "metadata": {},
     "output_type": "execute_result"
    }
   ],
   "source": [
    "len(dropped_nas[\"relation\"].unique())"
   ]
  },
  {
   "cell_type": "code",
   "execution_count": 11,
   "metadata": {},
   "outputs": [],
   "source": [
    "def clean_text(text):\n",
    "    text = text.replace(\"-lrb-\",\"\").replace(\"-rrb-\",\"\").replace(\"###END###\",\"\")\n",
    "    return text.strip()"
   ]
  },
  {
   "cell_type": "code",
   "execution_count": 12,
   "metadata": {},
   "outputs": [
    {
     "name": "stderr",
     "output_type": "stream",
     "text": [
      "C:\\Users\\dattad\\AppData\\Local\\Temp\\ipykernel_10644\\1914179460.py:1: SettingWithCopyWarning: \n",
      "A value is trying to be set on a copy of a slice from a DataFrame.\n",
      "Try using .loc[row_indexer,col_indexer] = value instead\n",
      "\n",
      "See the caveats in the documentation: https://pandas.pydata.org/pandas-docs/stable/user_guide/indexing.html#returning-a-view-versus-a-copy\n",
      "  dropped_nas['cleaned_text'] = dropped_nas['text'].apply(clean_text)\n"
     ]
    }
   ],
   "source": [
    "dropped_nas['cleaned_text'] = dropped_nas['text'].apply(clean_text)"
   ]
  },
  {
   "cell_type": "code",
   "execution_count": 14,
   "metadata": {},
   "outputs": [],
   "source": [
    "from sentence_transformers import SentenceTransformer\n",
    "model = SentenceTransformer('all-MiniLM-L6-v2')"
   ]
  },
  {
   "cell_type": "code",
   "execution_count": 15,
   "metadata": {},
   "outputs": [],
   "source": [
    "import numpy as np\n",
    "from collections import Counter"
   ]
  },
  {
   "cell_type": "code",
   "execution_count": null,
   "metadata": {},
   "outputs": [],
   "source": [
    "def reduce_dataset(df,category,MIN_SAMPLE_PER_GROUP,TARGET_SAMPLES):\n",
    "\n",
    "    small_groups = [group for _, group in df.groupby(category) if len(group) < MIN_SAMPLE_PER_GROUP]\n",
    "    large_groups = [group for _, group in df.groupby(category) if len(group) >= MIN_SAMPLE_PER_GROUP]\n",
    "    print(len(small_groups))\n",
    "    print(len(large_groups))\n",
    "\n",
    "    resampled_df = pd.concat(small_groups)\n",
    "    remaining_samples = TARGET_SAMPLES - len(resampled_df)\n",
    "    if remaining_samples > 0:\n",
    "        samples_per_large_group = remaining_samples // len(large_groups)\n",
    "        print(samples_per_large_group)\n",
    "        for group in large_groups:\n",
    "            print(\"--->\",len(group))\n",
    "            sampled_group = group.sample(n=samples_per_large_group, replace=False)\n",
    "            resampled_df = pd.concat([resampled_df, sampled_group])\n",
    "\n",
    "    resampled_df = resampled_df.reset_index(drop=True)\n",
    "    return resampled_df\n",
    "\n",
    "reduced_dataset = reduce_dataset(dropped_nas,\"relation\",400,10000)\n"
   ]
  },
  {
   "cell_type": "code",
   "execution_count": null,
   "metadata": {},
   "outputs": [],
   "source": [
    "sentences = reduced_dataset[\"cleaned_text\"].tolist()\n",
    "\n",
    "embeddings= np.zeros((len(sentences),model.get_sentence_embedding_dimension()))\n",
    "\n",
    "for i in tqdm(range(len(sentences)),desc = \"Encoding Sentences\"):\n",
    "    embeddings[i] = model.encode([sentences[i]])\n",
    "\n",
    "reduced_dataset[\"embedding\"] = embeddings.tolist()\n"
   ]
  },
  {
   "cell_type": "code",
   "execution_count": null,
   "metadata": {},
   "outputs": [],
   "source": [
    "reduced_dataset.to_csv(\"reduced_dataset.csv\")"
   ]
  },
  {
   "attachments": {},
   "cell_type": "markdown",
   "metadata": {},
   "source": [
    "UPSERTING TO PINECONE"
   ]
  },
  {
   "cell_type": "code",
   "execution_count": null,
   "metadata": {},
   "outputs": [],
   "source": [
    "# index_name = \"pinecone-index\"\n",
    "# if index_name in pinecone.list_indexes():\n",
    "#     pinecone.delete_index(index_name)"
   ]
  },
  {
   "cell_type": "code",
   "execution_count": null,
   "metadata": {},
   "outputs": [],
   "source": [
    "reduced_dataset.reset_index(inplace=True)"
   ]
  },
  {
   "cell_type": "code",
   "execution_count": null,
   "metadata": {},
   "outputs": [
    {
     "data": {
      "text/plain": [
       "Index(['index', 'meta-1', 'meta-2', 'NE1', 'NE2', 'relation', 'text',\n",
       "       'cleaned_text', 'embedding'],\n",
       "      dtype='object')"
      ]
     },
     "execution_count": 27,
     "metadata": {},
     "output_type": "execute_result"
    }
   ],
   "source": [
    "reduced_dataset.columns"
   ]
  },
  {
   "cell_type": "code",
   "execution_count": null,
   "metadata": {},
   "outputs": [],
   "source": [
    "def create_metadata(df):\n",
    "    df[\"metadata\"] = df.apply(lambda x: {\"NE1\":x[\"NE1\"],\"NE2\":x[\"NE2\"],\"relation\":x[\"relation\"] },axis = 1)\n",
    "    return df"
   ]
  },
  {
   "cell_type": "code",
   "execution_count": null,
   "metadata": {},
   "outputs": [],
   "source": [
    "reduced_dataset = create_metadata(reduced_dataset)"
   ]
  },
  {
   "attachments": {},
   "cell_type": "markdown",
   "metadata": {},
   "source": [
    "CREATING PINECONE UPSERT VECTORS"
   ]
  },
  {
   "cell_type": "code",
   "execution_count": null,
   "metadata": {},
   "outputs": [],
   "source": [
    "def create_vectors(df):\n",
    "    df[\"pinecone-vectors\"] = df.apply(lambda x: (str(x[\"index\"]),x[\"embedding\"],x[\"metadata\"]),axis = 1)\n",
    "    return df\n",
    "\n",
    "reduced_dataset = create_vectors(reduced_dataset)\n",
    "\n",
    "    "
   ]
  },
  {
   "cell_type": "code",
   "execution_count": null,
   "metadata": {},
   "outputs": [],
   "source": [
    "upsert_vectors = reduced_dataset[\"pinecone-vectors\"].to_list()"
   ]
  },
  {
   "cell_type": "code",
   "execution_count": 37,
   "metadata": {},
   "outputs": [
    {
     "data": {
      "text/plain": [
       "['nytfb-dct-embeddings',\n",
       " 'nytfb-gem-embeddings',\n",
       " 'nytfb-glove-embeddings',\n",
       " 'nytfb-laser-embeddings',\n",
       " 'nytfb-openai-embeddings',\n",
       " 'nytfb-random-embeddings',\n",
       " 'nytfb-sentbert-embeddings']"
      ]
     },
     "execution_count": 37,
     "metadata": {},
     "output_type": "execute_result"
    }
   ],
   "source": [
    "pinecone.list_indexes()"
   ]
  },
  {
   "cell_type": "code",
   "execution_count": null,
   "metadata": {},
   "outputs": [],
   "source": [
    "# pinecone.create_index(index_name,dimension=384,metric=\"cosine\")"
   ]
  },
  {
   "cell_type": "code",
   "execution_count": 41,
   "metadata": {},
   "outputs": [],
   "source": [
    "index = pinecone.Index('nytfb-sentbert-embeddings')"
   ]
  },
  {
   "attachments": {},
   "cell_type": "markdown",
   "metadata": {},
   "source": [
    "UPSERT TO PINECONE"
   ]
  },
  {
   "cell_type": "code",
   "execution_count": null,
   "metadata": {},
   "outputs": [],
   "source": [
    "#Upsert to the index with chunk size 500\n",
    "\n",
    "vector_num = 500\n",
    "\n",
    "for i in range(0,len(upsert_vectors),vector_num):\n",
    "    chunk = upsert_vectors[i:i+vector_num]\n",
    "    upsert_response = index.upsert(chunk)"
   ]
  },
  {
   "cell_type": "code",
   "execution_count": null,
   "metadata": {},
   "outputs": [],
   "source": []
  },
  {
   "attachments": {},
   "cell_type": "markdown",
   "metadata": {},
   "source": [
    "USING PINECONE FOR FINDING SIMILARITY"
   ]
  },
  {
   "attachments": {},
   "cell_type": "markdown",
   "metadata": {},
   "source": [
    "query_response"
   ]
  },
  {
   "cell_type": "code",
   "execution_count": null,
   "metadata": {},
   "outputs": [
    {
     "data": {
      "text/plain": [
       "{'NE1': 'wdet', 'NE2': 'detroit', 'relation': '/broadcast/content/location'}"
      ]
     },
     "execution_count": 36,
     "metadata": {},
     "output_type": "execute_result"
    }
   ],
   "source": [
    "upsert_vectors[0][2]"
   ]
  },
  {
   "cell_type": "code",
   "execution_count": null,
   "metadata": {},
   "outputs": [],
   "source": [
    "from collections import defaultdict"
   ]
  },
  {
   "cell_type": "code",
   "execution_count": null,
   "metadata": {},
   "outputs": [],
   "source": []
  },
  {
   "cell_type": "code",
   "execution_count": 67,
   "metadata": {},
   "outputs": [],
   "source": [
    "batch_size =100\n",
    "top_k = 15\n",
    "tuple_batches = [upsert_vectors[i:i+batch_size] for i in range(0,10000,batch_size)]"
   ]
  },
  {
   "cell_type": "code",
   "execution_count": 9,
   "metadata": {},
   "outputs": [],
   "source": [
    "index_name = 'pinecone-index'\n",
    "index = pinecone.Index(index_name)"
   ]
  },
  {
   "cell_type": "code",
   "execution_count": 18,
   "metadata": {},
   "outputs": [],
   "source": [
    "results = index.query(top_k = 25,vector=upsert_vectors[0][1],include_metadata=True)\n",
    "\n"
   ]
  },
  {
   "cell_type": "code",
   "execution_count": 27,
   "metadata": {},
   "outputs": [],
   "source": [
    "from collections import Counter"
   ]
  },
  {
   "cell_type": "code",
   "execution_count": 29,
   "metadata": {},
   "outputs": [
    {
     "data": {
      "text/plain": [
       "{'/business/company/major_shareholders': 10,\n",
       " '/business/company_shareholder/major_shareholder_of': 4,\n",
       " '/business/company/founders': 4,\n",
       " '/broadcast/content/location': 2,\n",
       " '/people/person/place_of_birth': 2,\n",
       " '/business/company/place_founded': 2,\n",
       " '/people/person/place_lived': 1}"
      ]
     },
     "execution_count": 29,
     "metadata": {},
     "output_type": "execute_result"
    }
   ],
   "source": [
    "dict(Counter([result[\"metadata\"][\"relation\"] for result in results[\"matches\"]]).most_common())"
   ]
  },
  {
   "cell_type": "code",
   "execution_count": 36,
   "metadata": {},
   "outputs": [],
   "source": [
    "text_liste = [result[\"metadata\"][\"relation\"] for result in results[\"matches\"]]\n",
    "text = \"\\n\".join(text_liste)\n",
    "       \n"
   ]
  },
  {
   "cell_type": "code",
   "execution_count": 34,
   "metadata": {},
   "outputs": [
    {
     "data": {
      "text/plain": [
       "'/broadcast/content/location\\n/broadcast/content/location\\n/people/person/place_of_birth\\n/business/company/place_founded\\n/business/company/place_founded\\n/business/company/major_shareholders\\n/business/company_shareholder/major_shareholder_of\\n/business/company/major_shareholders\\n/business/company/founders\\n/people/person/place_lived\\n/business/company/founders\\n/business/company/founders\\n/business/company/major_shareholders\\n/business/company/major_shareholders\\n/business/company_shareholder/major_shareholder_of\\n/business/company/founders\\n/business/company_shareholder/major_shareholder_of\\n/business/company/major_shareholders\\n/business/company/major_shareholders\\n/business/company_shareholder/major_shareholder_of\\n/business/company/major_shareholders\\n/business/company/major_shareholders\\n/people/person/place_of_birth\\n/business/company/major_shareholders\\n/business/company/major_shareholders'"
      ]
     },
     "execution_count": 34,
     "metadata": {},
     "output_type": "execute_result"
    }
   ],
   "source": [
    "text"
   ]
  },
  {
   "cell_type": "code",
   "execution_count": 37,
   "metadata": {},
   "outputs": [
    {
     "data": {
      "text/plain": [
       "'/broadcast/content/location\\n/broadcast/content/location\\n/people/person/place_of_birth\\n/business/company/place_founded\\n/business/company/place_founded\\n/business/company/major_shareholders\\n/business/company_shareholder/major_shareholder_of\\n/business/company/major_shareholders\\n/business/company/founders\\n/people/person/place_lived\\n/business/company/founders\\n/business/company/founders\\n/business/company/major_shareholders\\n/business/company/major_shareholders\\n/business/company_shareholder/major_shareholder_of\\n/business/company/founders\\n/business/company_shareholder/major_shareholder_of\\n/business/company/major_shareholders\\n/business/company/major_shareholders\\n/business/company_shareholder/major_shareholder_of\\n/business/company/major_shareholders\\n/business/company/major_shareholders\\n/people/person/place_of_birth\\n/business/company/major_shareholders\\n/business/company/major_shareholders'"
      ]
     },
     "execution_count": 37,
     "metadata": {},
     "output_type": "execute_result"
    }
   ],
   "source": [
    "text2"
   ]
  },
  {
   "attachments": {},
   "cell_type": "markdown",
   "metadata": {},
   "source": []
  },
  {
   "cell_type": "code",
   "execution_count": 117,
   "metadata": {},
   "outputs": [
    {
     "name": "stderr",
     "output_type": "stream",
     "text": [
      "100%|██████████| 100/100 [06:40<00:00,  4.01s/it]\n"
     ]
    }
   ],
   "source": [
    "\n",
    "neighbours = defaultdict(set)\n",
    "threshold = 0.55\n",
    "index = pinecone.Index(index_name)\n",
    "\n",
    "for batch in tqdm(tuple_batches):\n",
    "    ids,vectors,_ = zip(*batch)\n",
    "    results = index.query(top_k = 25,queries=vectors)\n",
    "    for i,element in enumerate(results['results']):\n",
    "        # if element[\"score\"] > threshold:\n",
    "        neighbours[str(ids[i])].update([res['id'] for res in element[\"matches\"] if ((res['score'] > threshold) and (str(res['id']) != str(ids[i]) ))])\n"
   ]
  },
  {
   "cell_type": "code",
   "execution_count": null,
   "metadata": {},
   "outputs": [
    {
     "data": {
      "text/plain": [
       "10000"
      ]
     },
     "execution_count": 40,
     "metadata": {},
     "output_type": "execute_result"
    }
   ],
   "source": [
    "len(neighbours)"
   ]
  },
  {
   "cell_type": "code",
   "execution_count": null,
   "metadata": {},
   "outputs": [],
   "source": [
    "neighbours_dict = {}\n",
    "neighbours_dict = dict(neighbours)"
   ]
  },
  {
   "cell_type": "code",
   "execution_count": null,
   "metadata": {},
   "outputs": [],
   "source": [
    "import pickle\n",
    "\n",
    "with open('neigbours.pkl','wb') as f:\n",
    "    pickle.dump(dict(neighbours),f)\n",
    "\n",
    "with open('upsert_vectors.pkl','wb') as f:\n",
    "    pickle.dump(upsert_vectors,f)\n",
    "\n",
    "with open('reduced_dataset.pkl','wb') as f:\n",
    "    pickle.dump(reduced_dataset,f)"
   ]
  },
  {
   "cell_type": "code",
   "execution_count": 1,
   "metadata": {},
   "outputs": [],
   "source": [
    "from langchain.embeddings.openai import OpenAIEmbeddings\n",
    "import openai\n",
    "\n",
    "import os\n",
    "\n",
    "os.environ[\"OPENAI_API_TYPE\"] = \"\"\n",
    "os.environ[\"OPENAI_API_BASE\"] = \"\"\n",
    "os.environ[\"OPENAI_API_KEY\"] = \"\"\n",
    "os.environ[\"OPENAI_API_VERSION\"] = \"\"\n",
    "EMBEDDING_DEPLOYED_NAME = \"\"\n",
    "EMBEDDING_MODEL_NAME = \"text-embedding-ada-002\"\n",
    "openai.api_key = \"\"\n",
    "\n",
    "def get_embeddings(text):\n",
    "    embeddings =  OpenAIEmbeddings(\n",
    "    deployment=EMBEDDING_DEPLOYED_NAME,\n",
    "    model=EMBEDDING_MODEL_NAME)\n",
    "    response = openai.Embedding.create(\n",
    "            input=text,\n",
    "            engine=EMBEDDING_DEPLOYED_NAME,\n",
    "            deployment_id=EMBEDDING_DEPLOYED_NAME\n",
    "        \n",
    ")\n",
    "    return response['data'][0]['embedding']\n",
    "    # return embeddings.embed_query(text)\n",
    "\n"
   ]
  },
  {
   "attachments": {},
   "cell_type": "markdown",
   "metadata": {},
   "source": [
    "# SUMMARIZE NEIGBHOURHOOLD\n",
    "THE VECTOR INDEX, EMBEDDING AND THE PINECONE INDEX ARE TO BE PASSED INTO THIS FUNCTION TO GET THE SUMMARY AND THE RELATIONS DICTIONARY"
   ]
  },
  {
   "attachments": {},
   "cell_type": "markdown",
   "metadata": {},
   "source": [
    "# SUMMARIZE NEIGBHOURHOOLD\n",
    "THE VECTOR INDEX, EMBEDDING AND THE PINECONE INDEX ARE TO BE PASSED INTO THIS FUNCTION TO GET THE SUMMARY AND THE RELATIONS DICTIONARY"
   ]
  },
  {
   "cell_type": "code",
   "execution_count": 4,
   "metadata": {},
   "outputs": [],
   "source": [
    "import pickle\n",
    "\n",
    "with open('upsert_vectors.pkl','rb') as f:\n",
    "    upsert_vectors = pickle.load(f)\n",
    "with open('reduced_dataset.pkl','rb') as f:\n",
    "    reduced_dataset = pickle.load(f)\n",
    "with open('neigbours.pkl','rb') as f:\n",
    "    neighbours = pickle.load(f)\n",
    "with open('sentbert_50.pkl','rb') as f:\n",
    "    consolidated_df = pickle.load(f)"
   ]
  },
  {
   "cell_type": "code",
   "execution_count": 5,
   "metadata": {},
   "outputs": [
    {
     "data": {
      "text/html": [
       "<div>\n",
       "<style scoped>\n",
       "    .dataframe tbody tr th:only-of-type {\n",
       "        vertical-align: middle;\n",
       "    }\n",
       "\n",
       "    .dataframe tbody tr th {\n",
       "        vertical-align: top;\n",
       "    }\n",
       "\n",
       "    .dataframe thead th {\n",
       "        text-align: right;\n",
       "    }\n",
       "</style>\n",
       "<table border=\"1\" class=\"dataframe\">\n",
       "  <thead>\n",
       "    <tr style=\"text-align: right;\">\n",
       "      <th></th>\n",
       "      <th>label</th>\n",
       "      <th>x</th>\n",
       "      <th>y</th>\n",
       "      <th>id</th>\n",
       "      <th>color</th>\n",
       "      <th>size</th>\n",
       "      <th>attributes.community</th>\n",
       "      <th>vector_index</th>\n",
       "      <th>sentence</th>\n",
       "      <th>relations</th>\n",
       "      <th>rel_ids</th>\n",
       "      <th>subjects</th>\n",
       "      <th>objects</th>\n",
       "    </tr>\n",
       "  </thead>\n",
       "  <tbody>\n",
       "    <tr>\n",
       "      <th>0</th>\n",
       "      <td>193886</td>\n",
       "      <td>-2024.8311767578125</td>\n",
       "      <td>-1812.0592041015625</td>\n",
       "      <td>193886</td>\n",
       "      <td>rgb(0,168,106)</td>\n",
       "      <td>10.0</td>\n",
       "      <td>14</td>\n",
       "      <td>193886</td>\n",
       "      <td>When he joined the firm , UBS was a top-tier g...</td>\n",
       "      <td>['Missing']</td>\n",
       "      <td>['35']</td>\n",
       "      <td>['asia']</td>\n",
       "      <td>['ubs']</td>\n",
       "    </tr>\n",
       "    <tr>\n",
       "      <th>1</th>\n",
       "      <td>165213</td>\n",
       "      <td>4146.9443359375</td>\n",
       "      <td>-1740.330078125</td>\n",
       "      <td>165213</td>\n",
       "      <td>rgb(219,115,0)</td>\n",
       "      <td>10.0</td>\n",
       "      <td>7</td>\n",
       "      <td>165213</td>\n",
       "      <td>Oscar Brown Jr. , a singer , songwriter , play...</td>\n",
       "      <td>['Missing']</td>\n",
       "      <td>['35']</td>\n",
       "      <td>['oscar_brown_jr.']</td>\n",
       "      <td>['chicago']</td>\n",
       "    </tr>\n",
       "    <tr>\n",
       "      <th>2</th>\n",
       "      <td>93560</td>\n",
       "      <td>-3427.796142578125</td>\n",
       "      <td>-2922.0830078125</td>\n",
       "      <td>93560</td>\n",
       "      <td>rgb(200,65,149)</td>\n",
       "      <td>10.0</td>\n",
       "      <td>32</td>\n",
       "      <td>93560</td>\n",
       "      <td>Other announcements about the New Sanctuary Mo...</td>\n",
       "      <td>['Missing']</td>\n",
       "      <td>['35']</td>\n",
       "      <td>['seattle']</td>\n",
       "      <td>['chicago']</td>\n",
       "    </tr>\n",
       "  </tbody>\n",
       "</table>\n",
       "</div>"
      ],
      "text/plain": [
       "    label                    x                    y      id            color  \\\n",
       "0  193886  -2024.8311767578125  -1812.0592041015625  193886   rgb(0,168,106)   \n",
       "1  165213      4146.9443359375      -1740.330078125  165213   rgb(219,115,0)   \n",
       "2   93560   -3427.796142578125     -2922.0830078125   93560  rgb(200,65,149)   \n",
       "\n",
       "   size attributes.community vector_index  \\\n",
       "0  10.0                   14       193886   \n",
       "1  10.0                    7       165213   \n",
       "2  10.0                   32        93560   \n",
       "\n",
       "                                            sentence    relations rel_ids  \\\n",
       "0  When he joined the firm , UBS was a top-tier g...  ['Missing']  ['35']   \n",
       "1  Oscar Brown Jr. , a singer , songwriter , play...  ['Missing']  ['35']   \n",
       "2  Other announcements about the New Sanctuary Mo...  ['Missing']  ['35']   \n",
       "\n",
       "              subjects      objects  \n",
       "0             ['asia']      ['ubs']  \n",
       "1  ['oscar_brown_jr.']  ['chicago']  \n",
       "2          ['seattle']  ['chicago']  "
      ]
     },
     "execution_count": 5,
     "metadata": {},
     "output_type": "execute_result"
    }
   ],
   "source": [
    "consolidated_df.head(3)"
   ]
  },
  {
   "cell_type": "code",
   "execution_count": 83,
   "metadata": {},
   "outputs": [],
   "source": [
    "def summarize_neighbourhood(_id,_embed,_index,_engine = 'Davinci-1',_relations = 'relations',_sentence = 'sentence',_k = 15,_random_state = 42,_max_tokens = 100,prompt = 'What do the following texts have in common? Is there any common theme in these texts?'):\n",
    "    \n",
    "    if _index: \n",
    "        results = _index.query(top_k=_k + 1,vector = _embed,include_metadata=True)\n",
    "        # since 1 of the results would be the input itself, I am searching for k+1 neighbours\n",
    "        \n",
    "        metadata_dict = dict(Counter([result[\"metadata\"][\"relation\"] for result in results[\"matches\"] if str(result[\"id\"]) != str(_id) ]).most_common() )\n",
    "\n",
    "        text_liste = [result[\"metadata\"][_sentence] for result in results[\"matches\"] if str(result[\"id\"]) != str(_id)]\n",
    "        \n",
    "        text = \"\\n\".join(text_liste)\n",
    "\n",
    "        response = openai.Completion.create(\n",
    "            engine= _engine,\n",
    "            prompt=f'{prompt} \\n\"\"\"\\n{text}\\n\"\"\"\\n\\n Theme:',\n",
    "            temperature=0,\n",
    "            max_tokens=_max_tokens,\n",
    "            top_p=1,\n",
    "            frequency_penalty=0,\n",
    "            presence_penalty=0,\n",
    "        )\n",
    "        summary = \"Summary:\" + response[\"choices\"][0][\"text\"].replace(\"\\n\", \"\")\n",
    "    else:\n",
    "        summary = 'Pinecone index not found'\n",
    "    \n",
    "    return summary,metadata_dict\n"
   ]
  },
  {
   "cell_type": "code",
   "execution_count": 64,
   "metadata": {},
   "outputs": [
    {
     "data": {
      "text/plain": [
       "<pinecone.index.Index at 0x21af5b92790>"
      ]
     },
     "execution_count": 64,
     "metadata": {},
     "output_type": "execute_result"
    }
   ],
   "source": [
    "index"
   ]
  },
  {
   "cell_type": "code",
   "execution_count": 84,
   "metadata": {},
   "outputs": [
    {
     "data": {
      "text/plain": [
       "('Summary: The common theme in these texts is information related to companies, people, and locations.',\n",
       " {'/business/company/major_shareholders': 4,\n",
       "  '/business/company/founders': 4,\n",
       "  '/business/company/place_founded': 2,\n",
       "  '/business/company_shareholder/major_shareholder_of': 2,\n",
       "  '/broadcast/content/location': 1,\n",
       "  '/people/person/place_of_birth': 1,\n",
       "  '/people/person/place_lived': 1})"
      ]
     },
     "execution_count": 84,
     "metadata": {},
     "output_type": "execute_result"
    }
   ],
   "source": [
    "summarize_neighbourhood(_id = upsert_vectors[0][0],_embed = upsert_vectors[0][1],_index = index,_engine = 'Davinci-1',_relations = 'relation',_sentence = 'relation',_k = 15,_random_state = 42,_max_tokens = 100,prompt = 'What do the following texts have in common? Is there any common theme in these texts?')"
   ]
  },
  {
   "attachments": {},
   "cell_type": "markdown",
   "metadata": {},
   "source": [
    "THE BELOW FUNCTION IS FOR SUMMARIZING CLUSTERS (SAMPLES_PER_CLUSTER = 15)"
   ]
  },
  {
   "cell_type": "code",
   "execution_count": 49,
   "metadata": {},
   "outputs": [],
   "source": []
  },
  {
   "cell_type": "code",
   "execution_count": 53,
   "metadata": {},
   "outputs": [],
   "source": [
    "def dfs(_node, _cluster_id,_clusters,_neighbours):\n",
    "    stack = [_node]\n",
    "    while stack:\n",
    "        _node = stack.pop()\n",
    "        if _node not in _clusters:\n",
    "            _clusters[_node] = _cluster_id\n",
    "            stack.extend(_neighbours[_node] - set(_clusters.keys()))\n",
    "    return _clusters"
   ]
  },
  {
   "cell_type": "code",
   "execution_count": 52,
   "metadata": {},
   "outputs": [],
   "source": [
    "def run_clustering(_neighbours):\n",
    "    clusters = {}\n",
    "    cluster_id = 0\n",
    "\n",
    "    for index in _neighbours.keys():\n",
    "        if index not in clusters:\n",
    "            clusters = dfs(index, cluster_id,clusters,_neighbours)\n",
    "            cluster_id += 1\n",
    "\n",
    "    return clusters"
   ]
  },
  {
   "cell_type": "code",
   "execution_count": 54,
   "metadata": {},
   "outputs": [],
   "source": [
    "clusters = run_clustering(neighbours)"
   ]
  },
  {
   "cell_type": "code",
   "execution_count": 55,
   "metadata": {},
   "outputs": [],
   "source": [
    "from collections import defaultdict\n",
    "df = reduced_dataset.copy()\n",
    "df[\"index\"] = df[\"index\"].astype(str)\n",
    "df['cluster'] = df[\"index\"].map(clusters)\n"
   ]
  },
  {
   "cell_type": "code",
   "execution_count": 56,
   "metadata": {},
   "outputs": [],
   "source": [
    "umap_df = df.copy()\n",
    "\n",
    "def all_vs_topklabelling(df,column,k):\n",
    "    list_tuples = Counter(df[column]).most_common()[:k]\n",
    "    top_k_labels = [item[0] for item in list_tuples]\n",
    "    df[\"cluster_topk\"] = df[column].apply(lambda x: x if x in top_k_labels else \"-1\")\n",
    "    return df\n",
    "\n",
    "umap_df = all_vs_topklabelling(umap_df,\"cluster\",10)\n",
    "\n",
    "    \n"
   ]
  },
  {
   "attachments": {},
   "cell_type": "markdown",
   "metadata": {},
   "source": [
    "# SUMMARIZE CLUSTERS"
   ]
  },
  {
   "cell_type": "code",
   "execution_count": 24,
   "metadata": {},
   "outputs": [],
   "source": [
    "import pandas as pd\n",
    "def summarize_clusters(_dataframe,_text_column_name,_cluster_column_name,_cluster_labels,_engine = 'Davinci-1',_samples_per_cluster = 15,_random_state = 42,_max_tokens = 100,prompt = 'What do the following texts have in common? Is there any common theme in these texts?'):\n",
    "    \n",
    "    output_dict = {\"Cluster_Num\" : [],\"Summary\" : []}\n",
    "\n",
    "    for i in _cluster_labels:\n",
    "        ctr_samples = _dataframe[_dataframe[_cluster_column_name] == i].shape[0]\n",
    "        if ctr_samples < _samples_per_cluster:\n",
    "            text = \"\\n\".join(\n",
    "                _dataframe[_dataframe[_cluster_column_name] == i][_text_column_name]\n",
    "                .sample(ctr_samples, random_state = _random_state)\n",
    "                .values\n",
    "            )\n",
    "        else:\n",
    "            text = \"\\n\".join(\n",
    "                _dataframe[_dataframe[_cluster_column_name] == i][_text_column_name]\n",
    "                .sample(_samples_per_cluster, random_state = _random_state)\n",
    "                .values\n",
    "            )\n",
    "\n",
    "        response = openai.Completion.create(\n",
    "            engine= _engine,\n",
    "            prompt=f'{prompt} \\n\"\"\"\\n{text}\\n\"\"\"\\n\\n Theme:',\n",
    "            temperature=0,\n",
    "            max_tokens=_max_tokens,\n",
    "            top_p=1,\n",
    "            frequency_penalty=0,\n",
    "            presence_penalty=0,\n",
    "        )\n",
    "        output_dict[\"Cluster_Num\"].append(i)\n",
    "        output_dict[\"Summary\"].append(response[\"choices\"][0][\"text\"].replace(\"\\n\", \"\"))\n",
    "    return pd.DataFrame(output_dict)\n"
   ]
  },
  {
   "cell_type": "code",
   "execution_count": 9,
   "metadata": {},
   "outputs": [
    {
     "data": {
      "text/plain": [
       "Index(['label', 'x', 'y', 'id', 'color', 'size', 'attributes.community',\n",
       "       'vector_index', 'sentence', 'relations', 'rel_ids', 'subjects',\n",
       "       'objects'],\n",
       "      dtype='object')"
      ]
     },
     "execution_count": 9,
     "metadata": {},
     "output_type": "execute_result"
    }
   ],
   "source": [
    "consolidated_df.columns"
   ]
  },
  {
   "attachments": {},
   "cell_type": "markdown",
   "metadata": {},
   "source": [
    "DATAFRAME EXPECTED FOR the SUMMARIZE_CLUSTERS FUNCTION"
   ]
  },
  {
   "cell_type": "code",
   "execution_count": 11,
   "metadata": {},
   "outputs": [
    {
     "data": {
      "text/html": [
       "<div>\n",
       "<style scoped>\n",
       "    .dataframe tbody tr th:only-of-type {\n",
       "        vertical-align: middle;\n",
       "    }\n",
       "\n",
       "    .dataframe tbody tr th {\n",
       "        vertical-align: top;\n",
       "    }\n",
       "\n",
       "    .dataframe thead th {\n",
       "        text-align: right;\n",
       "    }\n",
       "</style>\n",
       "<table border=\"1\" class=\"dataframe\">\n",
       "  <thead>\n",
       "    <tr style=\"text-align: right;\">\n",
       "      <th></th>\n",
       "      <th>sentence</th>\n",
       "      <th>attributes.community</th>\n",
       "    </tr>\n",
       "  </thead>\n",
       "  <tbody>\n",
       "    <tr>\n",
       "      <th>0</th>\n",
       "      <td>When he joined the firm , UBS was a top-tier g...</td>\n",
       "      <td>14</td>\n",
       "    </tr>\n",
       "    <tr>\n",
       "      <th>1</th>\n",
       "      <td>Oscar Brown Jr. , a singer , songwriter , play...</td>\n",
       "      <td>7</td>\n",
       "    </tr>\n",
       "    <tr>\n",
       "      <th>2</th>\n",
       "      <td>Other announcements about the New Sanctuary Mo...</td>\n",
       "      <td>32</td>\n",
       "    </tr>\n",
       "    <tr>\n",
       "      <th>3</th>\n",
       "      <td>On her first Manhattan weekend , her daughter ...</td>\n",
       "      <td>40</td>\n",
       "    </tr>\n",
       "  </tbody>\n",
       "</table>\n",
       "</div>"
      ],
      "text/plain": [
       "                                            sentence attributes.community\n",
       "0  When he joined the firm , UBS was a top-tier g...                   14\n",
       "1  Oscar Brown Jr. , a singer , songwriter , play...                    7\n",
       "2  Other announcements about the New Sanctuary Mo...                   32\n",
       "3  On her first Manhattan weekend , her daughter ...                   40"
      ]
     },
     "execution_count": 11,
     "metadata": {},
     "output_type": "execute_result"
    }
   ],
   "source": [
    "consolidated_df[['sentence','attributes.community']].head(4)"
   ]
  },
  {
   "cell_type": "code",
   "execution_count": 12,
   "metadata": {},
   "outputs": [],
   "source": [
    "cluster_labels = consolidated_df[\"attributes.community\"].unique().tolist()"
   ]
  },
  {
   "cell_type": "code",
   "execution_count": 21,
   "metadata": {},
   "outputs": [
    {
     "data": {
      "text/plain": [
       "Counter({'14': 6063,\n",
       "         '7': 4462,\n",
       "         '32': 1251,\n",
       "         '40': 10394,\n",
       "         '22': 5654,\n",
       "         '37': 2461,\n",
       "         '8': 7790,\n",
       "         '2': 11395,\n",
       "         '24': 7252,\n",
       "         '1': 13131,\n",
       "         '15': 13704,\n",
       "         '29': 4826,\n",
       "         '16': 6016,\n",
       "         '5': 2365,\n",
       "         '26': 6799,\n",
       "         '30': 1970,\n",
       "         '35': 3187,\n",
       "         '38': 5366,\n",
       "         '34': 853,\n",
       "         '12': 1840,\n",
       "         '27': 5127,\n",
       "         '4': 1595,\n",
       "         '31': 752,\n",
       "         '9': 9599,\n",
       "         '20': 3909,\n",
       "         '0': 6147,\n",
       "         '33': 5582,\n",
       "         '39': 465,\n",
       "         '25': 3900,\n",
       "         '10': 5260,\n",
       "         '21': 2318,\n",
       "         '23': 8,\n",
       "         '6': 468,\n",
       "         '3': 324,\n",
       "         '36': 307,\n",
       "         '17': 431,\n",
       "         '19': 76,\n",
       "         '11': 79,\n",
       "         '41': 91,\n",
       "         '18': 2,\n",
       "         '13': 14,\n",
       "         '28': 5})"
      ]
     },
     "execution_count": 21,
     "metadata": {},
     "output_type": "execute_result"
    }
   ],
   "source": [
    "from collections import Counter\n",
    "Counter(consolidated_df[\"attributes.community\"])"
   ]
  },
  {
   "cell_type": "code",
   "execution_count": 25,
   "metadata": {},
   "outputs": [],
   "source": [
    "cluster_summary = summarize_clusters(consolidated_df,\"sentence\",\"attributes.community\",cluster_labels,_samples_per_cluster = 15,_random_state=17)"
   ]
  },
  {
   "cell_type": "code",
   "execution_count": 26,
   "metadata": {},
   "outputs": [
    {
     "data": {
      "text/html": [
       "<div>\n",
       "<style scoped>\n",
       "    .dataframe tbody tr th:only-of-type {\n",
       "        vertical-align: middle;\n",
       "    }\n",
       "\n",
       "    .dataframe tbody tr th {\n",
       "        vertical-align: top;\n",
       "    }\n",
       "\n",
       "    .dataframe thead th {\n",
       "        text-align: right;\n",
       "    }\n",
       "</style>\n",
       "<table border=\"1\" class=\"dataframe\">\n",
       "  <thead>\n",
       "    <tr style=\"text-align: right;\">\n",
       "      <th></th>\n",
       "      <th>Cluster_Num</th>\n",
       "      <th>Summary</th>\n",
       "    </tr>\n",
       "  </thead>\n",
       "  <tbody>\n",
       "    <tr>\n",
       "      <th>0</th>\n",
       "      <td>14</td>\n",
       "      <td>International Relations</td>\n",
       "    </tr>\n",
       "    <tr>\n",
       "      <th>1</th>\n",
       "      <td>7</td>\n",
       "      <td>Death, Migration, and Change</td>\n",
       "    </tr>\n",
       "    <tr>\n",
       "      <th>2</th>\n",
       "      <td>32</td>\n",
       "      <td>Religion</td>\n",
       "    </tr>\n",
       "    <tr>\n",
       "      <th>3</th>\n",
       "      <td>40</td>\n",
       "      <td>Accomplishments of notable people from variou...</td>\n",
       "    </tr>\n",
       "    <tr>\n",
       "      <th>4</th>\n",
       "      <td>22</td>\n",
       "      <td>Success and Failure The common theme in these...</td>\n",
       "    </tr>\n",
       "    <tr>\n",
       "      <th>5</th>\n",
       "      <td>37</td>\n",
       "      <td>Travel and Exploration</td>\n",
       "    </tr>\n",
       "    <tr>\n",
       "      <th>6</th>\n",
       "      <td>8</td>\n",
       "      <td>The common theme in these texts is that they ...</td>\n",
       "    </tr>\n",
       "    <tr>\n",
       "      <th>7</th>\n",
       "      <td>2</td>\n",
       "      <td>Politics and Government</td>\n",
       "    </tr>\n",
       "    <tr>\n",
       "      <th>8</th>\n",
       "      <td>24</td>\n",
       "      <td>Politics and Government</td>\n",
       "    </tr>\n",
       "    <tr>\n",
       "      <th>9</th>\n",
       "      <td>1</td>\n",
       "      <td>International Relations The common theme in t...</td>\n",
       "    </tr>\n",
       "    <tr>\n",
       "      <th>10</th>\n",
       "      <td>15</td>\n",
       "      <td>Business and Corporate Management</td>\n",
       "    </tr>\n",
       "    <tr>\n",
       "      <th>11</th>\n",
       "      <td>29</td>\n",
       "      <td>People and Places</td>\n",
       "    </tr>\n",
       "    <tr>\n",
       "      <th>12</th>\n",
       "      <td>16</td>\n",
       "      <td>Celebrating Black History Month and exploring...</td>\n",
       "    </tr>\n",
       "    <tr>\n",
       "      <th>13</th>\n",
       "      <td>5</td>\n",
       "      <td>The common theme in these texts is conflict a...</td>\n",
       "    </tr>\n",
       "    <tr>\n",
       "      <th>14</th>\n",
       "      <td>26</td>\n",
       "      <td>Locations in New York and/or events taking pl...</td>\n",
       "    </tr>\n",
       "    <tr>\n",
       "      <th>15</th>\n",
       "      <td>30</td>\n",
       "      <td>Education, Science, Health, Law, Sports, Travel</td>\n",
       "    </tr>\n",
       "    <tr>\n",
       "      <th>16</th>\n",
       "      <td>35</td>\n",
       "      <td>The common theme in these texts is the descri...</td>\n",
       "    </tr>\n",
       "    <tr>\n",
       "      <th>17</th>\n",
       "      <td>38</td>\n",
       "      <td>Locations in the United States</td>\n",
       "    </tr>\n",
       "    <tr>\n",
       "      <th>18</th>\n",
       "      <td>34</td>\n",
       "      <td>People and Characters The common theme in the...</td>\n",
       "    </tr>\n",
       "    <tr>\n",
       "      <th>19</th>\n",
       "      <td>12</td>\n",
       "      <td>Sports and Recreation</td>\n",
       "    </tr>\n",
       "    <tr>\n",
       "      <th>20</th>\n",
       "      <td>27</td>\n",
       "      <td>Accomplishments and Achievements The common t...</td>\n",
       "    </tr>\n",
       "    <tr>\n",
       "      <th>21</th>\n",
       "      <td>4</td>\n",
       "      <td>The common theme in these texts is travel and...</td>\n",
       "    </tr>\n",
       "    <tr>\n",
       "      <th>22</th>\n",
       "      <td>31</td>\n",
       "      <td>Events and activities taking place in Califor...</td>\n",
       "    </tr>\n",
       "    <tr>\n",
       "      <th>23</th>\n",
       "      <td>9</td>\n",
       "      <td>The common theme in these texts is death and ...</td>\n",
       "    </tr>\n",
       "    <tr>\n",
       "      <th>24</th>\n",
       "      <td>20</td>\n",
       "      <td>Sports and Athletics</td>\n",
       "    </tr>\n",
       "    <tr>\n",
       "      <th>25</th>\n",
       "      <td>0</td>\n",
       "      <td>People and their relationships</td>\n",
       "    </tr>\n",
       "    <tr>\n",
       "      <th>26</th>\n",
       "      <td>33</td>\n",
       "      <td>Food and Eating The common theme in these tex...</td>\n",
       "    </tr>\n",
       "    <tr>\n",
       "      <th>27</th>\n",
       "      <td>39</td>\n",
       "      <td>Conflict and its consequences in different pa...</td>\n",
       "    </tr>\n",
       "    <tr>\n",
       "      <th>28</th>\n",
       "      <td>25</td>\n",
       "      <td>Travel and Exploration</td>\n",
       "    </tr>\n",
       "    <tr>\n",
       "      <th>29</th>\n",
       "      <td>10</td>\n",
       "      <td>International Relations</td>\n",
       "    </tr>\n",
       "    <tr>\n",
       "      <th>30</th>\n",
       "      <td>21</td>\n",
       "      <td>Latin America and its relationship with the U...</td>\n",
       "    </tr>\n",
       "    <tr>\n",
       "      <th>31</th>\n",
       "      <td>23</td>\n",
       "      <td>Engineering and Construction. These texts all...</td>\n",
       "    </tr>\n",
       "    <tr>\n",
       "      <th>32</th>\n",
       "      <td>6</td>\n",
       "      <td>Migration and Movement</td>\n",
       "    </tr>\n",
       "    <tr>\n",
       "      <th>33</th>\n",
       "      <td>3</td>\n",
       "      <td>Death and survivors. All of the texts are abo...</td>\n",
       "    </tr>\n",
       "    <tr>\n",
       "      <th>34</th>\n",
       "      <td>36</td>\n",
       "      <td>Theatre and Performance. These texts all rela...</td>\n",
       "    </tr>\n",
       "    <tr>\n",
       "      <th>35</th>\n",
       "      <td>17</td>\n",
       "      <td>The common theme in these texts is social iss...</td>\n",
       "    </tr>\n",
       "    <tr>\n",
       "      <th>36</th>\n",
       "      <td>19</td>\n",
       "      <td>The common theme in these texts is military s...</td>\n",
       "    </tr>\n",
       "    <tr>\n",
       "      <th>37</th>\n",
       "      <td>11</td>\n",
       "      <td>Expressing sympathy and condolences to family...</td>\n",
       "    </tr>\n",
       "    <tr>\n",
       "      <th>38</th>\n",
       "      <td>41</td>\n",
       "      <td>The common theme in these texts is family. Al...</td>\n",
       "    </tr>\n",
       "    <tr>\n",
       "      <th>39</th>\n",
       "      <td>18</td>\n",
       "      <td>The common theme in these texts is internatio...</td>\n",
       "    </tr>\n",
       "    <tr>\n",
       "      <th>40</th>\n",
       "      <td>13</td>\n",
       "      <td>The common theme in these texts is the mentio...</td>\n",
       "    </tr>\n",
       "    <tr>\n",
       "      <th>41</th>\n",
       "      <td>28</td>\n",
       "      <td>Similarities between places and events.</td>\n",
       "    </tr>\n",
       "  </tbody>\n",
       "</table>\n",
       "</div>"
      ],
      "text/plain": [
       "   Cluster_Num                                            Summary\n",
       "0           14                            International Relations\n",
       "1            7                       Death, Migration, and Change\n",
       "2           32                                           Religion\n",
       "3           40   Accomplishments of notable people from variou...\n",
       "4           22   Success and Failure The common theme in these...\n",
       "5           37                             Travel and Exploration\n",
       "6            8   The common theme in these texts is that they ...\n",
       "7            2                            Politics and Government\n",
       "8           24                            Politics and Government\n",
       "9            1   International Relations The common theme in t...\n",
       "10          15                  Business and Corporate Management\n",
       "11          29                                  People and Places\n",
       "12          16   Celebrating Black History Month and exploring...\n",
       "13           5   The common theme in these texts is conflict a...\n",
       "14          26   Locations in New York and/or events taking pl...\n",
       "15          30    Education, Science, Health, Law, Sports, Travel\n",
       "16          35   The common theme in these texts is the descri...\n",
       "17          38                     Locations in the United States\n",
       "18          34   People and Characters The common theme in the...\n",
       "19          12                              Sports and Recreation\n",
       "20          27   Accomplishments and Achievements The common t...\n",
       "21           4   The common theme in these texts is travel and...\n",
       "22          31   Events and activities taking place in Califor...\n",
       "23           9   The common theme in these texts is death and ...\n",
       "24          20                               Sports and Athletics\n",
       "25           0                     People and their relationships\n",
       "26          33   Food and Eating The common theme in these tex...\n",
       "27          39   Conflict and its consequences in different pa...\n",
       "28          25                             Travel and Exploration\n",
       "29          10                            International Relations\n",
       "30          21   Latin America and its relationship with the U...\n",
       "31          23   Engineering and Construction. These texts all...\n",
       "32           6                             Migration and Movement\n",
       "33           3   Death and survivors. All of the texts are abo...\n",
       "34          36   Theatre and Performance. These texts all rela...\n",
       "35          17   The common theme in these texts is social iss...\n",
       "36          19   The common theme in these texts is military s...\n",
       "37          11   Expressing sympathy and condolences to family...\n",
       "38          41   The common theme in these texts is family. Al...\n",
       "39          18   The common theme in these texts is internatio...\n",
       "40          13   The common theme in these texts is the mentio...\n",
       "41          28            Similarities between places and events."
      ]
     },
     "execution_count": 26,
     "metadata": {},
     "output_type": "execute_result"
    }
   ],
   "source": [
    "cluster_summary"
   ]
  },
  {
   "cell_type": "code",
   "execution_count": 27,
   "metadata": {},
   "outputs": [],
   "source": [
    "cluster_summary.to_csv(\"cluster_sentbert50_summary.csv\")"
   ]
  },
  {
   "cell_type": "code",
   "execution_count": 53,
   "metadata": {},
   "outputs": [],
   "source": [
    "def summarize_neighbourhood_without_embedding(_id,_index,_engine = 'Davinci-1',_relations = 'rel_idx',_sentence = 'text',_k = 15,_random_state = 42,_max_tokens = 100,prompt = 'What do the following texts have in common? Is there any common theme in these texts?'):\n",
    "    \n",
    "    if _index: \n",
    "        results = _index.query(top_k=_k+1,id = _id,include_metadata=True)\n",
    "        # print(results)\n",
    "        # since 1 of the results would be the input itself, I am searching for k+1 neighbours\n",
    "        \n",
    "        metadata_dict = dict(Counter([result[\"metadata\"][_relations][0] for result in results[\"matches\"] if str(result[\"id\"]) != str(_id) ]).most_common() )\n",
    "\n",
    "        text_liste = [result[\"metadata\"][_sentence] for result in results[\"matches\"] if str(result[\"id\"]) != str(_id)]\n",
    "        \n",
    "        text = \"\\n\".join(text_liste)\n",
    "\n",
    "        response = openai.Completion.create(\n",
    "            engine= _engine,\n",
    "            prompt=f'{prompt} \\n\"\"\"\\n{text}\\n\"\"\"\\n\\n Theme:',\n",
    "            temperature=0,\n",
    "            max_tokens=_max_tokens,\n",
    "            top_p=1,\n",
    "            frequency_penalty=0,\n",
    "            presence_penalty=0,\n",
    "        )\n",
    "        summary = \"Summary:\" + response[\"choices\"][0][\"text\"].replace(\"\\n\", \"\")\n",
    "    else:\n",
    "        summary = 'Pinecone index not found'\n",
    "    \n",
    "    return summary,metadata_dict\n"
   ]
  },
  {
   "cell_type": "code",
   "execution_count": 55,
   "metadata": {},
   "outputs": [
    {
     "data": {
      "text/plain": [
       "('Summary: Growth and Development', {'35': 14, '48': 1})"
      ]
     },
     "execution_count": 55,
     "metadata": {},
     "output_type": "execute_result"
    }
   ],
   "source": [
    "index = pinecone.Index('nytfb-sentbert-embeddings')\n",
    "summarize_neighbourhood_without_embedding(_id = \"1\",_index = index,_engine = 'Davinci-1',_relations = 'rel_idx',_sentence = 'text',_k = 15,_random_state = 42,_max_tokens = 100,prompt = 'What do the following texts have in common? Is there any common theme in these texts?')"
   ]
  },
  {
   "attachments": {},
   "cell_type": "markdown",
   "metadata": {},
   "source": [
    "A separate file to map 35 and 14 to the corresponding relations will also be uploaded later"
   ]
  }
 ],
 "metadata": {
  "kernelspec": {
   "display_name": "base",
   "language": "python",
   "name": "python3"
  },
  "language_info": {
   "codemirror_mode": {
    "name": "ipython",
    "version": 3
   },
   "file_extension": ".py",
   "mimetype": "text/x-python",
   "name": "python",
   "nbconvert_exporter": "python",
   "pygments_lexer": "ipython3",
   "version": "3.9.12"
  },
  "orig_nbformat": 4
 },
 "nbformat": 4,
 "nbformat_minor": 2
}
